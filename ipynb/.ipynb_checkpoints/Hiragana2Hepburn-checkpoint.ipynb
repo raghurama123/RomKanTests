{
 "cells": [
  {
   "cell_type": "code",
   "execution_count": 4,
   "id": "31a338ca",
   "metadata": {},
   "outputs": [
    {
     "data": {
      "text/plain": [
       "'3.9.13 (main, Aug 25 2022, 18:29:29) \\n[Clang 12.0.0 ]'"
      ]
     },
     "execution_count": 4,
     "metadata": {},
     "output_type": "execute_result"
    }
   ],
   "source": [
    "import sys\n",
    "sys.version"
   ]
  },
  {
   "cell_type": "code",
   "execution_count": null,
   "id": "75236ba5",
   "metadata": {},
   "outputs": [],
   "source": [
    "import romkan"
   ]
  },
  {
   "cell_type": "code",
   "execution_count": 5,
   "id": "3052b876",
   "metadata": {},
   "outputs": [
    {
     "name": "stdout",
     "output_type": "stream",
     "text": [
      "こんいちわ\n"
     ]
    }
   ],
   "source": [
    "def romaji_to_hiragana(romaji_text):\n",
    "    hiragana_text = romkan.to_hiragana(romaji_text)\n",
    "    return hiragana_text"
   ]
  },
  {
   "cell_type": "code",
   "execution_count": null,
   "id": "00ee4369",
   "metadata": {},
   "outputs": [],
   "source": [
    "def hiragana_to_hepburn(hiragana_text):\n",
    "    hepburn_text = romkan.to_hepburn(hiragana_text)\n",
    "    return hepburn_text"
   ]
  },
  {
   "cell_type": "code",
   "execution_count": 9,
   "id": "ce52148f",
   "metadata": {},
   "outputs": [
    {
     "name": "stdout",
     "output_type": "stream",
     "text": [
      "こんいちわ\n"
     ]
    }
   ],
   "source": [
    "romaji_input = \"konnichiwa\"\n",
    "hiragana_output = romaji_to_hiragana(romaji_input)\n",
    "print(hiragana_output)"
   ]
  },
  {
   "cell_type": "code",
   "execution_count": 8,
   "id": "8fb4b347",
   "metadata": {},
   "outputs": [
    {
     "name": "stdout",
     "output_type": "stream",
     "text": [
      "kon'nichiwa\n"
     ]
    }
   ],
   "source": [
    "hiragana_input = \"こんにちわ\"\n",
    "hepburn_output = hiragana_to_hepburn(hiragana_input)\n",
    "print(hepburn_output)"
   ]
  }
 ],
 "metadata": {
  "kernelspec": {
   "display_name": "Python 3 (ipykernel)",
   "language": "python",
   "name": "python3"
  },
  "language_info": {
   "codemirror_mode": {
    "name": "ipython",
    "version": 3
   },
   "file_extension": ".py",
   "mimetype": "text/x-python",
   "name": "python",
   "nbconvert_exporter": "python",
   "pygments_lexer": "ipython3",
   "version": "3.9.13"
  }
 },
 "nbformat": 4,
 "nbformat_minor": 5
}
